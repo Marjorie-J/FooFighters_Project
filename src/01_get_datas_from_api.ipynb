{
 "cells": [
  {
   "cell_type": "code",
   "execution_count": 2,
   "id": "e4380c6b",
   "metadata": {},
   "outputs": [],
   "source": [
    "import pandas as pd\n",
    "import requests"
   ]
  },
  {
   "cell_type": "code",
   "execution_count": 5,
   "id": "8316f30e",
   "metadata": {},
   "outputs": [
    {
     "name": "stdout",
     "output_type": "stream",
     "text": [
      "Get artist informations\n"
     ]
    }
   ],
   "source": [
    "print(\"Get artist informations\")\n",
    "\n",
    "# endpoint https://api.spotify.com/v1/artists/{id}\n",
    "\n",
    "params_artist = {\"id\": \"7jy3rLJdDQY21OgRLCZ9sD\"}\n",
    "\n",
    "url_artist = \"https://api.spotify.com/v1/artists/\"\n",
    "\n",
    "#Appel API\n",
    "try:\n",
    "    response_artist = requests.get(url_artist, params_artist)\n",
    "\n",
    "    #API artiste OK\n",
    "    if response_artist.status_code == 200:\n",
    "        print(response_artist)\n",
    "\n",
    "        \"\"\"if response_geo.json():\n",
    "            data_geo = response_geo.json()[0]\n",
    "            \n",
    "            city[\"lat\"] = float(data_geo[\"lat\"])\n",
    "            city[\"lon\"] = float(data_geo[\"lon\"])\n",
    "\n",
    "            params_weather[\"lat\"] = data_geo[\"lat\"]\n",
    "            params_weather[\"lon\"] = data_geo[\"lon\"]\"\"\"\n",
    "\n",
    "except requests.exceptions.RequestException as error:\n",
    "        print(\"Exception Artist Error:\", error)     "
   ]
  }
 ],
 "metadata": {
  "kernelspec": {
   "display_name": "spotify_env (3.12.3)",
   "language": "python",
   "name": "python3"
  },
  "language_info": {
   "codemirror_mode": {
    "name": "ipython",
    "version": 3
   },
   "file_extension": ".py",
   "mimetype": "text/x-python",
   "name": "python",
   "nbconvert_exporter": "python",
   "pygments_lexer": "ipython3",
   "version": "3.12.3"
  }
 },
 "nbformat": 4,
 "nbformat_minor": 5
}
