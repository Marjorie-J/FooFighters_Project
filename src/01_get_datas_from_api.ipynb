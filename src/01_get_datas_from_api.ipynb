{
 "cells": [
  {
   "cell_type": "markdown",
   "id": "1649ca0f",
   "metadata": {},
   "source": [
    "### Librairies"
   ]
  },
  {
   "cell_type": "code",
   "execution_count": 1,
   "id": "e4380c6b",
   "metadata": {},
   "outputs": [],
   "source": [
    "import os\n",
    "import pandas as pd\n",
    "import requests"
   ]
  },
  {
   "cell_type": "markdown",
   "id": "9cab9ff5",
   "metadata": {},
   "source": [
    "### Authentification pour récupérer le token"
   ]
  },
  {
   "cell_type": "code",
   "execution_count": 2,
   "id": "015ae6f9",
   "metadata": {},
   "outputs": [],
   "source": [
    "headers_auth = {\n",
    "    \"Content-Type\": \"application/x-www-form-urlencoded\"\n",
    "}\n",
    "\n",
    "data_auth = {\n",
    "    \"grant_type\": \"client_credentials\",\n",
    "    \"client_id\": os.getenv(\"SPOTIFY_CLIENT_ID\"),\n",
    "    \"client_secret\": os.getenv(\"SPOTIFY_CLIENT_SECRET\")\n",
    "}\n",
    "\n",
    "url_auth = \"https://accounts.spotify.com/api/token\"\n",
    "\n",
    "try:\n",
    "    response_auth = requests.post(url_auth, headers=headers_auth, data=data_auth)\n",
    "    response_auth.raise_for_status()  # lève une exception si statut != 200\n",
    "\n",
    "    # Extraction du token\n",
    "    access_token = response_auth.json().get(\"access_token\")\n",
    "\n",
    "except requests.exceptions.RequestException as error:\n",
    "    print(\"Exception during authentication:\", error)\n",
    "    access_token = None"
   ]
  },
  {
   "cell_type": "markdown",
   "id": "b80a7f39",
   "metadata": {},
   "source": [
    "### Utilisation du token pour appeler l’API artists"
   ]
  },
  {
   "cell_type": "code",
   "execution_count": 3,
   "id": "155f0687",
   "metadata": {},
   "outputs": [
    {
     "name": "stdout",
     "output_type": "stream",
     "text": [
      "Get artists informations ... \n",
      "... OK\n"
     ]
    }
   ],
   "source": [
    "if access_token:\n",
    "    print(\"Get artists informations ... \")\n",
    "\n",
    "    headers_artists = {\n",
    "        \"Authorization\": f\"Bearer {access_token}\"\n",
    "    }\n",
    "\n",
    "    artists_id = \"7mRVAzlt1fAAR9Cut6Rq8c,7jy3rLJdDQY21OgRLCZ9sD,6olE6TJLqED3rqDCT0FyPh\"  # Dave Grohl, Foo Fighters, Nirvana\n",
    "    url_artists = f\"https://api.spotify.com/v1/artists?ids={artists_id}\"\n",
    "\n",
    "    try:\n",
    "        response_artists = requests.get(url_artists, headers=headers_artists)\n",
    "        response_artists.raise_for_status()\n",
    "\n",
    "        artists_json = response_artists.json()\n",
    "\n",
    "        # On initialise une liste pour stocker les lignes du DataFrame\n",
    "        artists_data = []\n",
    "\n",
    "        for artist in artists_json[\"artists\"]:\n",
    "\n",
    "            data = {\n",
    "                \"id\": artist[\"id\"],\n",
    "                \"name\": artist[\"name\"],\n",
    "                \"url\": artist[\"external_urls\"][\"spotify\"],\n",
    "                \"image_url\": artist[\"images\"][0][\"url\"],\n",
    "                \"popularity\": artist[\"popularity\"],\n",
    "                \"genres\": artist[\"genres\"],  # laisse en liste\n",
    "                \"total_followers\": artist[\"followers\"][\"total\"],\n",
    "                \"uri\": artist[\"uri\"]\n",
    "            }\n",
    "            artists_data.append(data)\n",
    "\n",
    "        # Création du DataFrame\n",
    "        df_artists = pd.DataFrame(artists_data)\n",
    "\n",
    "        # Sauvegarde CSV\n",
    "        df_artists.to_csv(\"../datas/artists.csv\", index=False)\n",
    "\n",
    "        print(\"... OK\")\n",
    "\n",
    "    except requests.exceptions.RequestException as error:\n",
    "        print(\"Exception during artists data retrieval:\", error)"
   ]
  }
 ],
 "metadata": {
  "kernelspec": {
   "display_name": "spotify_env (3.12.3)",
   "language": "python",
   "name": "python3"
  },
  "language_info": {
   "codemirror_mode": {
    "name": "ipython",
    "version": 3
   },
   "file_extension": ".py",
   "mimetype": "text/x-python",
   "name": "python",
   "nbconvert_exporter": "python",
   "pygments_lexer": "ipython3",
   "version": "3.12.3"
  }
 },
 "nbformat": 4,
 "nbformat_minor": 5
}
