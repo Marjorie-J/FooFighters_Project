{
 "cells": [
  {
   "cell_type": "markdown",
   "id": "1649ca0f",
   "metadata": {},
   "source": [
    "### Librairies"
   ]
  },
  {
   "cell_type": "code",
   "execution_count": 1,
   "id": "e4380c6b",
   "metadata": {},
   "outputs": [],
   "source": [
    "import os\n",
    "import pandas as pd\n",
    "import requests"
   ]
  },
  {
   "cell_type": "markdown",
   "id": "9cab9ff5",
   "metadata": {},
   "source": [
    "### Authentification pour récupérer le token"
   ]
  },
  {
   "cell_type": "code",
   "execution_count": 2,
   "id": "015ae6f9",
   "metadata": {},
   "outputs": [],
   "source": [
    "headers_auth = {\n",
    "    \"Content-Type\": \"application/x-www-form-urlencoded\"\n",
    "}\n",
    "\n",
    "data_auth = {\n",
    "    \"grant_type\": \"client_credentials\",\n",
    "    \"client_id\": os.getenv(\"SPOTIFY_CLIENT_ID\"),\n",
    "    \"client_secret\": os.getenv(\"SPOTIFY_CLIENT_SECRET\")\n",
    "}\n",
    "\n",
    "url_auth = \"https://accounts.spotify.com/api/token\"\n",
    "\n",
    "try:\n",
    "    response_auth = requests.post(url_auth, headers=headers_auth, data=data_auth)\n",
    "    response_auth.raise_for_status()  # lève une exception si statut != 200\n",
    "\n",
    "    # Extraction du token\n",
    "    access_token = response_auth.json().get(\"access_token\")\n",
    "\n",
    "except requests.exceptions.RequestException as error:\n",
    "    print(\"Exception during authentication:\", error)\n",
    "    access_token = None"
   ]
  },
  {
   "cell_type": "code",
   "execution_count": 10,
   "id": "9a38bb58",
   "metadata": {},
   "outputs": [],
   "source": [
    "headers_auth = {\"Authorization\": f\"Bearer {access_token}\"}\n",
    "\n",
    "artist_id = \"7jy3rLJdDQY21OgRLCZ9sD\"  # Foo Fighters"
   ]
  },
  {
   "cell_type": "markdown",
   "id": "b80a7f39",
   "metadata": {},
   "source": [
    "### Appel API artist"
   ]
  },
  {
   "cell_type": "code",
   "execution_count": 11,
   "id": "155f0687",
   "metadata": {},
   "outputs": [
    {
     "name": "stdout",
     "output_type": "stream",
     "text": [
      "Get artist informations ... \n",
      "... OK\n"
     ]
    }
   ],
   "source": [
    "if access_token:\n",
    "    print(\"Get artist informations ... \")\n",
    "\n",
    "    url_artist = f\"https://api.spotify.com/v1/artists/{artist_id}\"\n",
    "\n",
    "    try:\n",
    "        response_artist = requests.get(url_artist, headers=headers_auth)\n",
    "        response_artist.raise_for_status()\n",
    "\n",
    "        artist_json = response_artist.json()\n",
    "\n",
    "        artist_data = {\n",
    "            \"id\": artist_json[\"id\"],\n",
    "            \"name\": artist_json[\"name\"],\n",
    "            \"url\": artist_json[\"external_urls\"][\"spotify\"],\n",
    "            \"image_url\": artist_json[\"images\"][0][\"url\"],\n",
    "            \"popularity\": artist_json[\"popularity\"],\n",
    "            \"genres\": artist_json[\"genres\"],  # laisse en liste\n",
    "            \"total_followers\": artist_json[\"followers\"][\"total\"],\n",
    "            \"uri\": artist_json[\"uri\"]\n",
    "        }\n",
    "\n",
    "        # Création du DataFrame\n",
    "        df_artist = pd.DataFrame([artist_data])\n",
    "\n",
    "        # Sauvegarde CSV\n",
    "        df_artist.to_csv(\"../datas/artist.csv\", index=False)\n",
    "\n",
    "        print(\"... OK\")\n",
    "\n",
    "    except requests.exceptions.RequestException as error:\n",
    "        print(\"Exception during artist data retrieval:\", error)"
   ]
  },
  {
   "cell_type": "markdown",
   "id": "26e7bfcb",
   "metadata": {},
   "source": [
    "### Appel API Albums"
   ]
  },
  {
   "cell_type": "code",
   "execution_count": 18,
   "id": "83cd5c6c",
   "metadata": {},
   "outputs": [
    {
     "name": "stdout",
     "output_type": "stream",
     "text": [
      "Get albums informations ... \n",
      "Total number of albums : 14\n",
      "... OK\n"
     ]
    }
   ],
   "source": [
    "if access_token:\n",
    "    print(\"Get albums informations ... \")\n",
    "\n",
    "    params_albums = {\n",
    "        \"include_groups\": \"album\",\n",
    "        \"limit\": 50,\n",
    "        \"offset\": 0\n",
    "    }\n",
    "\n",
    "    url_albums = f\"https://api.spotify.com/v1/artists/{artist_id}/albums\"\n",
    "\n",
    "    try:\n",
    "        response_albums = requests.get(url_albums, headers=headers_auth, params=params_albums)\n",
    "        response_albums.raise_for_status()\n",
    "\n",
    "        albums_json = response_albums.json()\n",
    "\n",
    "        if albums_json['next'] is None:\n",
    "            print(\"Total number of albums :\", albums_json['total'])\n",
    "            \n",
    "            # On initialise une liste pour stocker les lignes du DataFrame\n",
    "            albums_data = []\n",
    "\n",
    "            for album in albums_json[\"items\"]:\n",
    "                data = {\n",
    "                    \"name\": album[\"name\"],\n",
    "                    \"release_date\": album[\"release_date\"],\n",
    "                    \"release_date_precision\": album[\"release_date_precision\"],\n",
    "                    \"total_tracks\": album[\"total_tracks\"],\n",
    "                    \"url\": album[\"external_urls\"][\"spotify\"],\n",
    "                    \"image_url\": album[\"images\"][0][\"url\"],\n",
    "                    \"available_markets\": album[\"available_markets\"],\n",
    "                    \"uri\": album[\"uri\"]\n",
    "                }\n",
    "                albums_data.append(data)\n",
    "\n",
    "            # Création du DataFrame\n",
    "            df_albums = pd.DataFrame(albums_data)\n",
    "\n",
    "            # Sauvegarde CSV\n",
    "            df_albums.to_csv(\"../datas/albums.csv\", index=False)\n",
    "\n",
    "        print(\"... OK\")\n",
    "\n",
    "    except requests.exceptions.RequestException as error:\n",
    "        print(\"Exception during albums data retrieval:\", error)"
   ]
  }
 ],
 "metadata": {
  "kernelspec": {
   "display_name": "ff_env (3.12.3)",
   "language": "python",
   "name": "python3"
  },
  "language_info": {
   "codemirror_mode": {
    "name": "ipython",
    "version": 3
   },
   "file_extension": ".py",
   "mimetype": "text/x-python",
   "name": "python",
   "nbconvert_exporter": "python",
   "pygments_lexer": "ipython3",
   "version": "3.12.3"
  }
 },
 "nbformat": 4,
 "nbformat_minor": 5
}
